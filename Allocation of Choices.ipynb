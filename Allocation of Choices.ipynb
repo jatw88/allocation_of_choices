{
 "cells": [
  {
   "cell_type": "code",
   "execution_count": 2,
   "metadata": {},
   "outputs": [
    {
     "name": "stdout",
     "output_type": "stream",
     "text": [
      "Schools allocated to Slot 1  = ['ABC Sec Sch', 'JKL Sec Sch']\n",
      "Schools allocated to Slot 2  = ['DEF Sec Sch', 'UVW Sec Sch']\n",
      "Schools allocated to Slot 3  = ['GHI Sec Sch', 'XYZ Sec Sch']\n"
     ]
    }
   ],
   "source": [
    "# =============================================================================\n",
    "# To allocate schools based on their choices on a first-come-first-serve basis\n",
    "# =============================================================================\n",
    "\n",
    "import pandas as pd\n",
    "import os\n",
    "\n",
    "df = pd.read_excel(os.path.expanduser(\"~/Desktop/preference.xlsx\"))\n",
    "#line written for Mac OS desktop\n",
    "#import the Excel file with the choices (e.g., from FormSG) into Python\n",
    "\n",
    "df_sorted = df.sort_values(['Timestamp'])\n",
    "#sort the schools by timestamp\n",
    "\n",
    "slots_list = [\"Slot 1\",\"Slot 2\",\"Slot 3\"]\n",
    "#input by user\n",
    "#number of slots available for schools to choose from\n",
    "\n",
    "num_choices = 3\n",
    "#input by user\n",
    "#number of choices per school (= number of slots for simplification)\n",
    "\n",
    "max_capacity = 2\n",
    "#input by user (try varying the numeber!)\n",
    "#max capacity for each slot (assuming the same for all slots)\n",
    "\n",
    "pref_to_list=dict()\n",
    "for i in range (len(slots_list)):\n",
    "    pref_to_list[slots_list[i]]=list()\n",
    "#create a list for each slot to record theallocated schools\n",
    "\n",
    "for i in range(df_sorted.shape[0]):\n",
    "    school = df_sorted.iloc[i,1] #depends on headers of Excel file\n",
    "    allocation_state = False\n",
    "    for j in range(2,2+num_choices): #depends on the headers of the Excel file\n",
    "        choice = df_sorted.iloc[i,j]\n",
    "        relevant_list = pref_to_list[choice]\n",
    "        while allocation_state == False:\n",
    "            if len(relevant_list) < max_capacity:\n",
    "                relevant_list.append(school)\n",
    "                allocation_state = True\n",
    "            else:\n",
    "                break\n",
    "\n",
    "for i in range (len(slots_list)):\n",
    "    print(\"Schools allocated to\", slots_list[i],\" =\", pref_to_list[slots_list[i]])"
   ]
  },
  {
   "cell_type": "code",
   "execution_count": null,
   "metadata": {},
   "outputs": [],
   "source": []
  }
 ],
 "metadata": {
  "kernelspec": {
   "display_name": "Python 3",
   "language": "python",
   "name": "python3"
  },
  "language_info": {
   "codemirror_mode": {
    "name": "ipython",
    "version": 3
   },
   "file_extension": ".py",
   "mimetype": "text/x-python",
   "name": "python",
   "nbconvert_exporter": "python",
   "pygments_lexer": "ipython3",
   "version": "3.7.6"
  }
 },
 "nbformat": 4,
 "nbformat_minor": 4
}
